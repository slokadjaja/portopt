{
 "cells": [
  {
   "cell_type": "code",
   "metadata": {
    "ExecuteTime": {
     "end_time": "2024-11-09T09:12:50.658705Z",
     "start_time": "2024-11-09T09:12:50.633727Z"
    }
   },
   "source": [
    "import yfinance as yf\n",
    "import pandas as pd\n",
    "import numpy as np\n",
    "from collections.abc import Callable\n",
    "import torch\n",
    "import torch.nn as nn\n",
    "from torch.utils.data import Dataset\n",
    "import cvxpy as cp"
   ],
   "outputs": [],
   "execution_count": 43
  },
  {
   "cell_type": "code",
   "metadata": {
    "ExecuteTime": {
     "end_time": "2024-11-08T22:23:17.009381Z",
     "start_time": "2024-11-08T22:23:16.302240Z"
    }
   },
   "source": [
    "prices = yf.download([\"VTI\", \"AGG\", \"DBC\", \"^VIX\"]).loc[\"2006-03\":\"2024-10\", \"Close\"]\n",
    "returns = prices.pct_change().dropna()"
   ],
   "outputs": [
    {
     "name": "stderr",
     "output_type": "stream",
     "text": [
      "[*********************100%%**********************]  4 of 4 completed\n"
     ]
    }
   ],
   "execution_count": 2
  },
  {
   "cell_type": "code",
   "metadata": {},
   "source": [
    "print(prices)\n",
    "prices.isna().sum()"
   ],
   "outputs": [],
   "execution_count": null
  },
  {
   "cell_type": "code",
   "execution_count": 67,
   "metadata": {},
   "outputs": [],
   "source": [
    "# Custom allocations\n",
    "alloc_1 = {\"AGG\": 0.25, \"DBC\": 0.25, \"VTI\": 0.25, \"^VIX\": 0.25}\n",
    "alloc_2 = {\"AGG\": 0.1, \"DBC\": 0.2, \"VTI\": 0.5, \"^VIX\": 0.2}\n",
    "alloc_3 = {\"AGG\": 0.5, \"DBC\": 0.2, \"VTI\": 0.1, \"^VIX\": 0.2}\n",
    "alloc_4 = {\"AGG\": 0.4, \"DBC\": 0.1, \"VTI\": 0.4, \"^VIX\": 0.1}\n",
    "\n",
    "\n",
    "def weight_from_alloc(returns: pd.DataFrame, prices: pd.DataFrame, weight_dict: dict[str: float]) -> np.ndarray:\n",
    "    n_assets = len(returns.columns)\n",
    "    weights = np.zeros(n_assets)\n",
    "\n",
    "    for i, col in enumerate(returns.columns):\n",
    "        weights[i] = weight_dict[col]\n",
    "\n",
    "    return weights\n",
    "\n",
    "\n",
    "def mvo(returns: pd.DataFrame, prices: pd.DataFrame):\n",
    "    n_assets = len(returns.columns)\n",
    "    mu = returns.mean()\n",
    "    cov = returns.cov()\n",
    "    \n",
    "    w = cp.Variable(n_assets)\n",
    "    # todo\n",
    "\n",
    "\n",
    "def plot_rets(returns: pd.DataFrame):\n",
    "    (1+returns).cumprod().plot()"
   ]
  },
  {
   "cell_type": "code",
   "execution_count": 68,
   "metadata": {},
   "outputs": [],
   "source": [
    "def backtest(\n",
    "    prices: pd.DataFrame,\n",
    "    returns: pd.DataFrame,\n",
    "    est_window_size: int,\n",
    "    weight_fct: Callable,\n",
    "    rebalance_freq: int = 1,    # todo how to handle daily, monthly, yearly\n",
    "    tcost: float = 0,\n",
    "    **kwargs\n",
    ") -> pd.DataFrame:\n",
    "\n",
    "    horizon = len(returns)\n",
    "    assets = returns.columns\n",
    "    weights_arr = []\n",
    "\n",
    "    for i in range(horizon - est_window_size): # todo check\n",
    "        if i % rebalance_freq == 0:\n",
    "            price_window = prices.iloc[i : i + est_window_size]\n",
    "            return_window = returns.iloc[i : i + est_window_size]\n",
    "            weights = weight_fct(return_window, price_window, **kwargs)\n",
    "            # todo calculate turnover\n",
    "        else:\n",
    "            weights = weights_arr[-1]\n",
    "            # todo calculate drift\n",
    "\n",
    "        weights_arr.append(weights)\n",
    "\n",
    "    weights_df = pd.DataFrame(weights_arr, columns=assets, index=returns.index[est_window_size:])\n",
    "    pf_ret = (weights_df * returns).sum(axis=1)\n",
    "\n",
    "    return pf_ret"
   ]
  },
  {
   "cell_type": "code",
   "execution_count": 69,
   "metadata": {},
   "outputs": [],
   "source": [
    "test_price = prices.loc[\"2006\"]\n",
    "test_rets = returns.loc[\"2006\"]"
   ]
  },
  {
   "cell_type": "code",
   "metadata": {},
   "source": [
    "pf_ret = backtest(test_price, test_rets, 100, weight_from_alloc, weight_dict=alloc_2)"
   ],
   "outputs": [],
   "execution_count": null
  },
  {
   "cell_type": "markdown",
   "metadata": {},
   "source": [
    "### Create dataset"
   ]
  },
  {
   "cell_type": "code",
   "metadata": {
    "ExecuteTime": {
     "end_time": "2024-11-09T08:58:34.881674Z",
     "start_time": "2024-11-09T08:58:33.915061Z"
    }
   },
   "source": [
    "# input shape: \n",
    "# batch_first = True -> (N, seq_len, input_size)\n",
    "lookback_window = 50\n",
    "\n",
    "feature_df = pd.concat([prices, returns], axis=1).dropna().values\n",
    "X_arr = []\n",
    "y_arr = []\n",
    "for i in range(len(feature_df) - lookback_window):\n",
    "    X_arr.append(feature_df[i : i + lookback_window].tolist())\n",
    "    y_arr.append(returns.iloc[i + lookback_window].values.tolist())\n",
    "\n",
    "X = torch.Tensor(X_arr)\n",
    "y = torch.Tensor(y_arr)\n",
    "\n",
    "train_test_cutoff = round(0.90 * X.shape[0])\n",
    "\n",
    "X_train = X[:train_test_cutoff]\n",
    "X_test = X[train_test_cutoff:]\n",
    "y_train = y[:train_test_cutoff]\n",
    "y_test = y[train_test_cutoff:]\n"
   ],
   "outputs": [],
   "execution_count": 39
  },
  {
   "cell_type": "markdown",
   "metadata": {},
   "source": "### Define model"
  },
  {
   "cell_type": "code",
   "metadata": {
    "ExecuteTime": {
     "end_time": "2024-11-09T09:00:14.125312Z",
     "start_time": "2024-11-09T09:00:14.104223Z"
    }
   },
   "source": [
    "class LSTM(nn.Module):\n",
    "    def __init__(self, n_assets, hidden_size, num_layers=1, batch_first=True):\n",
    "        super(LSTM, self).__init__()\n",
    "        \n",
    "        self.input_size = n_assets * 2  # prices + returns\n",
    "        \n",
    "        self.lstm = nn.LSTM(\n",
    "            input_size=self.input_size,\n",
    "            hidden_size=hidden_size,\n",
    "            num_layers=num_layers,\n",
    "            batch_first=batch_first\n",
    "        )\n",
    "        self.fc = nn.Linear(hidden_size, n_assets)\n",
    "        self.softmax = nn.Softmax(dim=-1)\n",
    "\n",
    "    def forward(self, x):\n",
    "        output, (hn, cn) = self.lstm(x)\n",
    "        pf_weights = self.softmax(self.fc(hn[-1]))\n",
    "        \n",
    "        return pf_weights"
   ],
   "outputs": [],
   "execution_count": 40
  },
  {
   "cell_type": "code",
   "metadata": {
    "ExecuteTime": {
     "end_time": "2024-11-09T09:00:14.458236Z",
     "start_time": "2024-11-09T09:00:14.445372Z"
    }
   },
   "source": [
    "lstm = LSTM(n_assets=4, hidden_size=64)\n",
    "optimizer = torch.optim.Adam(lstm.parameters(), lr=0.001)"
   ],
   "outputs": [],
   "execution_count": 41
  },
  {
   "metadata": {},
   "cell_type": "code",
   "outputs": [],
   "execution_count": null,
   "source": ""
  }
 ],
 "metadata": {
  "kernelspec": {
   "display_name": "qam_research_test",
   "language": "python",
   "name": "python3"
  },
  "language_info": {
   "codemirror_mode": {
    "name": "ipython",
    "version": 3
   },
   "file_extension": ".py",
   "mimetype": "text/x-python",
   "name": "python",
   "nbconvert_exporter": "python",
   "pygments_lexer": "ipython3",
   "version": "3.10.14"
  }
 },
 "nbformat": 4,
 "nbformat_minor": 2
}
